{
 "metadata": {
  "language_info": {
   "codemirror_mode": {
    "name": "ipython",
    "version": 3
   },
   "file_extension": ".py",
   "mimetype": "text/x-python",
   "name": "python",
   "nbconvert_exporter": "python",
   "pygments_lexer": "ipython3",
   "version": "3.8.5-final"
  },
  "orig_nbformat": 2,
  "kernelspec": {
   "name": "pathgan-torch",
   "display_name": "pathgan-torch",
   "language": "python"
  }
 },
 "nbformat": 4,
 "nbformat_minor": 2,
 "cells": [
  {
   "cell_type": "code",
   "execution_count": 4,
   "metadata": {},
   "outputs": [],
   "source": [
    "import torch\n",
    "import torch.nn.functional as F"
   ]
  },
  {
   "cell_type": "code",
   "execution_count": 2,
   "metadata": {},
   "outputs": [
    {
     "output_type": "execute_result",
     "data": {
      "text/plain": [
       "tensor([[0., 0., 0.],\n",
       "        [0., 0., 0.],\n",
       "        [0., 0., 0.]])"
      ]
     },
     "metadata": {},
     "execution_count": 2
    }
   ],
   "source": [
    "weights = torch.zeros(3,3)\n",
    "weights"
   ]
  },
  {
   "cell_type": "code",
   "execution_count": 6,
   "metadata": {},
   "outputs": [
    {
     "output_type": "execute_result",
     "data": {
      "text/plain": [
       "tensor([[0., 0., 0., 0., 0.],\n",
       "        [0., 0., 0., 0., 0.],\n",
       "        [0., 0., 0., 0., 0.],\n",
       "        [0., 0., 0., 0., 0.],\n",
       "        [0., 0., 0., 0., 0.]])"
      ]
     },
     "metadata": {},
     "execution_count": 6
    }
   ],
   "source": [
    "padded_weights = F.pad(weights, [1, 1, 1, 1])\n",
    "padded_weights"
   ]
  },
  {
   "cell_type": "code",
   "execution_count": null,
   "metadata": {},
   "outputs": [],
   "source": [
    "weights = weights[:, :, 1:, 1:] + weights[:, :, 1:, :-\n",
    "                                            1] + weights[:, :, :-1, 1:] + weights[:, :, :-1, :-1]\n",
    "w_mat = weights.view(weights.size(0), -1)\n",
    "sigma, _u = max_singular_value(w_mat, self.u, 1)\n",
    "self.u.copy_(_u)\n",
    "return weights / sigma"
   ]
  },
  {
   "cell_type": "code",
   "execution_count": 49,
   "metadata": {},
   "outputs": [],
   "source": [
    "from typing import List\n",
    "\n",
    "def _output_padding(input, output_padding, output_size, stride, padding, kernel_size, dilation=None):\n",
    "        # type: (Tensor, Optional[List[int]], List[int], List[int], List[int], Optional[List[int]]) -> List[int]\n",
    "        if output_size is None:\n",
    "            ret = tuple(output_padding)  # converting to list if was not already\n",
    "        else:\n",
    "            k = input.dim() - 2\n",
    "            if len(output_size) == k + 2:\n",
    "                output_size = output_size[2:]\n",
    "            if len(output_size) != k:\n",
    "                raise ValueError(\n",
    "                    \"output_size must have {} or {} elements (got {})\"\n",
    "                    .format(k, k + 2, len(output_size)))\n",
    "\n",
    "            min_sizes = torch.jit.annotate(List[int], [])\n",
    "            max_sizes = torch.jit.annotate(List[int], [])\n",
    "            for d in range(k):\n",
    "                dim_size = ((input.size(d + 2) - 1) * stride[d] -\n",
    "                            2 * padding[d] +\n",
    "                            (dilation[d] if dilation is not None else 1) * (kernel_size[d] - 1) + 1)\n",
    "                min_sizes.append(dim_size)\n",
    "                max_sizes.append(min_sizes[d] + stride[d] - 1)\n",
    "\n",
    "            for i in range(len(output_size)):\n",
    "                size = output_size[i]\n",
    "                min_size = min_sizes[i]\n",
    "                max_size = max_sizes[i]\n",
    "                if size < min_size or size > max_size:\n",
    "                    raise ValueError((\n",
    "                        \"requested an output size of {}, but valid sizes range \"\n",
    "                        \"from {} to {} (for an input of {})\").format(\n",
    "                            output_size, min_sizes, max_sizes, input.size()[2:]))\n",
    "\n",
    "            res = torch.jit.annotate(List[int], [])\n",
    "            for d in range(k):\n",
    "                res.append(output_size[d] - min_sizes[d])\n",
    "\n",
    "            ret = res\n",
    "        return ret"
   ]
  },
  {
   "cell_type": "code",
   "execution_count": 107,
   "metadata": {},
   "outputs": [
    {
     "output_type": "execute_result",
     "data": {
      "text/plain": [
       "[1, 1]"
      ]
     },
     "metadata": {},
     "execution_count": 107
    }
   ],
   "source": [
    "input_x = 256\n",
    "input_y = 256\n",
    "\n",
    "inputs = torch.zeros(3, 10, input_x, input_y)\n",
    "inputs.dim()\n",
    "output_padding = _output_padding(input, output_padding=[0,0], output_size=[input_x * 2,input_y * 2], stride=[2,2], padding=[1,1], kernel_size=[3,3], dilation=None)\n",
    "\n",
    "output_padding"
   ]
  },
  {
   "cell_type": "code",
   "execution_count": 133,
   "metadata": {
    "tags": []
   },
   "outputs": [
    {
     "output_type": "stream",
     "name": "stdout",
     "text": [
      "success stride: 2, padding: 0, dilation: 1, kernel_size: 1, failed sizes: 0\nsuccess stride: 2, padding: 0, dilation: 1, kernel_size: 2, failed sizes: 0\nfail stride: 2, padding: 0, dilation: 1, kernel_size: 3, failed sizes: 500\nfail stride: 2, padding: 0, dilation: 1, kernel_size: 4, failed sizes: 500\nfail stride: 2, padding: 0, dilation: 1, kernel_size: 5, failed sizes: 500\nsuccess stride: 2, padding: 0, dilation: 2, kernel_size: 1, failed sizes: 0\nfail stride: 2, padding: 0, dilation: 2, kernel_size: 2, failed sizes: 500\nfail stride: 2, padding: 0, dilation: 2, kernel_size: 3, failed sizes: 500\nfail stride: 2, padding: 0, dilation: 2, kernel_size: 4, failed sizes: 500\nfail stride: 2, padding: 0, dilation: 2, kernel_size: 5, failed sizes: 500\nfail stride: 2, padding: 1, dilation: 1, kernel_size: 1, failed sizes: 500\nfail stride: 2, padding: 1, dilation: 1, kernel_size: 2, failed sizes: 500\nsuccess stride: 2, padding: 1, dilation: 1, kernel_size: 3, failed sizes: 0\nsuccess stride: 2, padding: 1, dilation: 1, kernel_size: 4, failed sizes: 0\nfail stride: 2, padding: 1, dilation: 1, kernel_size: 5, failed sizes: 500\nfail stride: 2, padding: 1, dilation: 2, kernel_size: 1, failed sizes: 500\nsuccess stride: 2, padding: 1, dilation: 2, kernel_size: 2, failed sizes: 0\nfail stride: 2, padding: 1, dilation: 2, kernel_size: 3, failed sizes: 500\nfail stride: 2, padding: 1, dilation: 2, kernel_size: 4, failed sizes: 500\nfail stride: 2, padding: 1, dilation: 2, kernel_size: 5, failed sizes: 500\nfail stride: 2, padding: 2, dilation: 1, kernel_size: 1, failed sizes: 500\nfail stride: 2, padding: 2, dilation: 1, kernel_size: 2, failed sizes: 500\nfail stride: 2, padding: 2, dilation: 1, kernel_size: 3, failed sizes: 500\nfail stride: 2, padding: 2, dilation: 1, kernel_size: 4, failed sizes: 500\nsuccess stride: 2, padding: 2, dilation: 1, kernel_size: 5, failed sizes: 0\nfail stride: 2, padding: 2, dilation: 2, kernel_size: 1, failed sizes: 500\nfail stride: 2, padding: 2, dilation: 2, kernel_size: 2, failed sizes: 500\nsuccess stride: 2, padding: 2, dilation: 2, kernel_size: 3, failed sizes: 0\nfail stride: 2, padding: 2, dilation: 2, kernel_size: 4, failed sizes: 500\nfail stride: 2, padding: 2, dilation: 2, kernel_size: 5, failed sizes: 500\nfail stride: 2, padding: 3, dilation: 1, kernel_size: 1, failed sizes: 500\nfail stride: 2, padding: 3, dilation: 1, kernel_size: 2, failed sizes: 500\nfail stride: 2, padding: 3, dilation: 1, kernel_size: 3, failed sizes: 500\nfail stride: 2, padding: 3, dilation: 1, kernel_size: 4, failed sizes: 500\nfail stride: 2, padding: 3, dilation: 1, kernel_size: 5, failed sizes: 500\nfail stride: 2, padding: 3, dilation: 2, kernel_size: 1, failed sizes: 500\nfail stride: 2, padding: 3, dilation: 2, kernel_size: 2, failed sizes: 500\nfail stride: 2, padding: 3, dilation: 2, kernel_size: 3, failed sizes: 500\nsuccess stride: 2, padding: 3, dilation: 2, kernel_size: 4, failed sizes: 0\nfail stride: 2, padding: 3, dilation: 2, kernel_size: 5, failed sizes: 500\n"
     ]
    }
   ],
   "source": [
    "from tqdm import tqdm\n",
    "\n",
    "for stride in range(2,3):\n",
    "    for padding in range(0,4):\n",
    "        for dilation in range(1,3):\n",
    "            for kernel_size in range(1,6):\n",
    "                failure = False\n",
    "                sizes = []\n",
    "                for input_size in range(0, 500):\n",
    "                    output_size = input_size * 2\n",
    "                    min_size = (input_size - 1) * stride - 2 * padding + dilation * (kernel_size - 1) + 1\n",
    "                    max_size = min_size + stride - 1\n",
    "                    if output_size < min_size or output_size > max_size:\n",
    "                        failure = True\n",
    "                        sizes.append(input_x)\n",
    "\n",
    "                message = 'fail' if failure else 'success'\n",
    "                print(f'{message} stride: {stride}, padding: {padding}, dilation: {dilation}, kernel_size: {kernel_size}, failed sizes: {len(sizes)}')\n",
    "        \n",
    "       "
   ]
  },
  {
   "cell_type": "code",
   "execution_count": null,
   "metadata": {},
   "outputs": [],
   "source": []
  }
 ]
}